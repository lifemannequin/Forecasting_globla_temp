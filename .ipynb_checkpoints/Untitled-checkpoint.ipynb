{
 "cells": [
  {
   "cell_type": "code",
   "execution_count": null,
   "id": "be7314e0",
   "metadata": {},
   "outputs": [],
   "source": []
  },
  {
   "cell_type": "code",
   "execution_count": 1,
   "id": "532eab1c",
   "metadata": {},
   "outputs": [],
   "source": [
    "\n",
    "import numpy as np\n",
    "import pandas as pd\n",
    "import matplotlib.pyplot as plt\n",
    "from math import sqrt\n",
    "from multiprocessing import cpu_count\n",
    "from joblib import Parallel\n",
    "from joblib import delayed\n",
    "from warnings import catch_warnings\n",
    "from warnings import filterwarnings\n",
    "from statsmodels.tsa.statespace.sarimax import SARIMAX\n",
    "from sklearn.metrics import mean_squared_error\n",
    "from sklearn.metrics import mean_absolute_percentage_error"
   ]
  },
  {
   "cell_type": "code",
   "execution_count": 4,
   "id": "117248a0",
   "metadata": {},
   "outputs": [
    {
     "name": "stdout",
     "output_type": "stream",
     "text": [
      "       LandAverageTemperature  LandAverageTemperatureUncertainty\n",
      "count              166.000000                         166.000000\n",
      "mean                 8.571583                           0.276663\n",
      "std                  0.473687                           0.208560\n",
      "min                  7.558583                           0.062083\n",
      "25%                  8.195708                           0.094333\n",
      "50%                  8.540750                           0.240625\n",
      "75%                  8.791250                           0.341958\n",
      "max                  9.831000                           0.918250\n"
     ]
    }
   ],
   "source": [
    "filepath ='/home/veroastro/Documents/Forecasting_globla_temp/data/'\n",
    "data = pd.read_csv(filepath +'GlobalTemperatures.csv')\n",
    "#changing the date column,dt, into a datetime object\n",
    "data['dt']=pd.to_datetime(data['dt'])\n",
    "cols = ['dt', 'LandAverageTemperature', 'LandAverageTemperatureUncertainty']\n",
    "land_avg_temp = data[cols].dropna()\n",
    "# creating the dataset of temperatures by year\n",
    "land_avg_temp['years'] = pd.DatetimeIndex(land_avg_temp['dt']).year \n",
    "yearly = land_avg_temp.groupby('years').mean()\n",
    "yearly=yearly.drop(yearly.index[:100])\n",
    "print(yearly.describe())\n",
    "avg_temp = yearly['LandAverageTemperature']\n"
   ]
  },
  {
   "cell_type": "code",
   "execution_count": 5,
   "id": "d1857f51",
   "metadata": {},
   "outputs": [
    {
     "data": {
      "text/plain": [
       "[<matplotlib.lines.Line2D at 0x7f10bee2e580>]"
      ]
     },
     "execution_count": 5,
     "metadata": {},
     "output_type": "execute_result"
    },
    {
     "data": {
      "image/png": "[encoded data removed]",
      "text/plain": [
       "<Figure size 640x480 with 1 Axes>"
      ]
     },
     "metadata": {},
     "output_type": "display_data"
    }
   ],
   "source": [
    "plt.plot(yearly.index,yearly['LandAverageTemperatureUncertainty'])"
   ]
  },
  {
   "cell_type": "code",
   "execution_count": null,
   "id": "1e84480d",
   "metadata": {},
   "outputs": [
    {
     "name": "stdout",
     "output_type": "stream",
     "text": [
      " > Model[[(0, 0, 0), (0, 0, 0, 0), 'n']] 9.095\n",
      " > Model[[(0, 0, 0), (0, 0, 0, 12), 'n']] 9.095\n",
      " > Model[[(0, 0, 0), (0, 1, 0, 12), 'n']] 0.356\n",
      " > Model[[(0, 0, 0), (1, 0, 0, 12), 'n']] 0.304\n",
      " > Model[[(0, 0, 0), (1, 1, 0, 12), 'n']] 0.378\n",
      " > Model[[(0, 0, 0), (0, 1, 1, 12), 'n']] 0.376\n",
      " > Model[[(0, 0, 0), (0, 0, 1, 12), 'n']] 7.898\n",
      " > Model[[(0, 0, 0), (1, 0, 1, 12), 'n']] 0.316\n",
      " > Model[[(0, 0, 0), (2, 0, 0, 12), 'n']] 0.314\n",
      " > Model[[(0, 0, 0), (1, 1, 1, 12), 'n']] 0.371\n",
      " > Model[[(0, 0, 0), (0, 0, 2, 12), 'n']] 3.695\n",
      " > Model[[(0, 0, 0), (1, 0, 2, 12), 'n']] 0.300\n",
      " > Model[[(0, 0, 0), (0, 0, 0, 0), 'c']] 0.732\n",
      " > Model[[(0, 0, 0), (0, 0, 0, 12), 'c']] 0.732\n",
      " > Model[[(0, 0, 0), (2, 1, 0, 12), 'n']] 0.371\n",
      " > Model[[(0, 0, 0), (2, 0, 1, 12), 'n']] 0.309\n",
      " > Model[[(0, 0, 0), (0, 1, 0, 12), 'c']] 0.303\n",
      " > Model[[(0, 0, 0), (0, 0, 1, 12), 'c']] 0.680\n",
      " > Model[[(0, 0, 0), (2, 0, 2, 12), 'n']] 0.308\n",
      " > Model[[(0, 0, 0), (0, 1, 1, 12), 'c']] 0.325\n",
      " > Model[[(0, 0, 0), (0, 1, 2, 12), 'n']] 0.367\n",
      " > Model[[(0, 0, 0), (1, 0, 0, 12), 'c']] 0.367\n",
      " > Model[[(0, 0, 0), (0, 0, 2, 12), 'c']] 0.518\n",
      " > Model[[(0, 0, 0), (1, 1, 0, 12), 'c']] 0.317\n",
      " > Model[[(0, 0, 0), (1, 0, 1, 12), 'c']] 0.310\n",
      " > Model[[(0, 0, 0), (1, 1, 1, 12), 'c']] 0.313\n",
      " > Model[[(0, 0, 0), (1, 0, 2, 12), 'c']] 0.349\n",
      " > Model[[(0, 0, 0), (1, 1, 2, 12), 'n']] 0.369\n",
      " > Model[[(0, 0, 0), (2, 1, 1, 12), 'n']] 0.367\n",
      " > Model[[(0, 0, 0), (2, 0, 0, 12), 'c']] 0.334\n",
      " > Model[[(0, 0, 0), (2, 0, 1, 12), 'c']] 0.333\n",
      " > Model[[(0, 0, 0), (0, 0, 0, 0), 't']] 3.862\n",
      " > Model[[(0, 0, 0), (0, 0, 0, 12), 't']] 3.862\n",
      " > Model[[(0, 0, 0), (0, 0, 1, 12), 't']] 3.202\n",
      " > Model[[(0, 0, 0), (2, 0, 2, 12), 'c']] 0.301\n",
      " > Model[[(0, 0, 0), (0, 1, 0, 12), 't']] 0.276\n",
      " > Model[[(0, 0, 0), (0, 1, 2, 12), 'c']] 0.300\n",
      " > Model[[(0, 0, 0), (2, 1, 0, 12), 'c']] 0.319\n",
      " > Model[[(0, 0, 0), (0, 1, 1, 12), 't']] 0.251\n",
      " > Model[[(0, 0, 0), (0, 0, 2, 12), 't']] 1.695\n",
      " > Model[[(0, 0, 0), (2, 1, 2, 12), 'n']] 0.364\n",
      " > Model[[(0, 0, 0), (1, 0, 0, 12), 't']] 0.278\n",
      " > Model[[(0, 0, 0), (1, 0, 1, 12), 't']] 0.301\n",
      " > Model[[(0, 0, 0), (1, 1, 0, 12), 't']] 0.271\n",
      " > Model[[(0, 0, 0), (1, 1, 1, 12), 't']] 0.257\n",
      " > Model[[(0, 0, 0), (2, 0, 0, 12), 't']] 0.267\n"
     ]
    }
   ],
   "source": [
    "# one-step sarima forecast\n",
    "def sarima_forecast(history, config):\n",
    "    order, sorder, trend = config\n",
    "    # define model\n",
    "    model = SARIMAX(history, order=order, seasonal_order=sorder, trend=trend, enforce_stationarity=False, \n",
    "                    enforce_invertibility=False)\n",
    "    # fit model\n",
    "    model_fit = model.fit(disp=False)\n",
    "    # make one step forecast\n",
    "    yhat = model_fit.predict(len(history), len(history))\n",
    "    return yhat[0]\n",
    "\n",
    "# root mean squared error or rmse\n",
    "def measure_rmse(actual, predicted):\n",
    "    return sqrt(mean_squared_error(actual, predicted))\n",
    "\n",
    "# split a univariate dataset into train/test sets\n",
    "def train_test_split(data, n_test):\n",
    "    return data[:-n_test], data[-n_test:]\n",
    "\n",
    "# walk-forward validation for univariate data\n",
    "def walk_forward_validation(data, n_test, cfg):\n",
    "    predictions = list()\n",
    "    # split dataset\n",
    "    train, test = train_test_split(data, n_test)\n",
    "    # seed history with training dataset\n",
    "    history = [x for x in train]\n",
    "    # step over each time-step in the test set\n",
    "    for i in range(len(test)):\n",
    "        # fit model and make forecast for history\n",
    "        yhat = sarima_forecast(history, cfg)\n",
    "        # store forecast in list of predictions\n",
    "        predictions.append(yhat)\n",
    "        # add actual observation to history for the next loop\n",
    "        history.append(test[i])\n",
    "        # estimate prediction error\n",
    "    error = measure_rmse(test, predictions)\n",
    "    return error\n",
    "\n",
    "# score a model, return None on failure\n",
    "def score_model(data, n_test, cfg, debug=False):\n",
    "    result = None\n",
    "    # convert config to a key\n",
    "    key = str(cfg)\n",
    "    # show all warnings and fail on exception if debugging\n",
    "    if debug:\n",
    "        result = walk_forward_validation(data, n_test, cfg)\n",
    "    else:\n",
    "    # one failure during model validation suggests an unstable config\n",
    "        try:\n",
    "        # never show warnings when grid searching, too noisy\n",
    "            with catch_warnings():\n",
    "                filterwarnings(\"ignore\")\n",
    "                result = walk_forward_validation(data, n_test, cfg)\n",
    "        except:\n",
    "            error = None\n",
    "    # check for an interesting result\n",
    "    if result is not None:\n",
    "        print(' > Model[%s] %.3f' % (key, result))\n",
    "    return (key, result)\n",
    "\n",
    "# grid search configs\n",
    "def grid_search(data, cfg_list, n_test, parallel=True):\n",
    "    scores = None\n",
    "    if parallel:\n",
    "        # execute configs in parallel\n",
    "        executor = Parallel(n_jobs=-1, backend='multiprocessing')\n",
    "        tasks = (delayed(score_model)(data, n_test, cfg) for cfg in cfg_list)\n",
    "        scores = executor(tasks)\n",
    "    else:\n",
    "        scores = [score_model(data, n_test, cfg) for cfg in cfg_list]\n",
    "    # remove empty results\n",
    "    scores = [r for r in scores if r[1] != None]\n",
    "    # sort configs by error, asc\n",
    "    scores.sort(key=lambda tup: tup[1])\n",
    "    return scores\n",
    "\n",
    "# create a set of sarima configs to try\n",
    "def sarima_configs(seasonal=[0]):\n",
    "    models = list()\n",
    "    # define config lists\n",
    "    p_params = [0, 1, 2]\n",
    "    d_params = [0, 1]\n",
    "    q_params = [0, 1, 2]\n",
    "    t_params = ['n','c','t','ct']\n",
    "    P_params = [0, 1, 2]\n",
    "    D_params = [0, 1]\n",
    "    Q_params = [0, 1, 2]\n",
    "    m_params = seasonal\n",
    "    # create config instances\n",
    "    for p in p_params:\n",
    "        for d in d_params:\n",
    "            for q in q_params:\n",
    "                for t in t_params:\n",
    "                    for P in P_params:\n",
    "                        for D in D_params:\n",
    "                            for Q in Q_params:\n",
    "                                for m in m_params:\n",
    "                                    cfg = [(p,d,q), (P,D,Q,m), t]\n",
    "                                    models.append(cfg)\n",
    "    return models\n",
    "\n",
    "if __name__ == '__main__':\n",
    "    # load dataset\n",
    "    series = avg_temp\n",
    "    data = series.values\n",
    "    # data split\n",
    "    n_test = 50\n",
    "    # model configs\n",
    "    cfg_list = sarima_configs(seasonal=[0, 12])\n",
    "    # grid search\n",
    "    scores = grid_search(data, cfg_list, n_test,parallel=True)\n",
    "    print('done')\n",
    "    # list top 3 configs\n",
    "    for cfg, error in scores[:3]:\n",
    "        print(cfg, error)\n",
    "        print(100-100*error/np.mean(series[-n_test:]))\n",
    "   "
   ]
  },
  {
   "cell_type": "code",
   "execution_count": null,
   "id": "9af71c3b",
   "metadata": {},
   "outputs": [],
   "source": [
    "for cfg, error in scores[:3]:\n",
    "        print(cfg, error)\n",
    "        print(100-100*error/np.mean(series[-n_test:]))\n",
    "   "
   ]
  },
  {
   "cell_type": "code",
   "execution_count": null,
   "id": "09612a14",
   "metadata": {},
   "outputs": [],
   "source": [
    "def sarima_model(data, n_test, config):\n",
    "    order, sorder, trend = config\n",
    "    train = data[:-n_test]\n",
    "    test = data[-n_test:]\n",
    "    # define model\n",
    "    model = SARIMAX(train, order=order, seasonal_order=sorder, trend=trend, enforce_stationarity=False, \n",
    "                    enforce_invertibility=False)\n",
    "    # fit model\n",
    "    model_fit = model.fit(disp=False)\n",
    "    # make one step forecast\n",
    "    #yhat = model_fit.predict(test)\n",
    "    return model_fit.bic, model_fit.aic"
   ]
  },
  {
   "cell_type": "code",
   "execution_count": null,
   "id": "36853f15",
   "metadata": {},
   "outputs": [],
   "source": [
    "for cfg, error in scores[:5]:\n",
    "    cfg = tuple(eval(cfg))\n",
    "    print(sarima_model(data,n_test, cfg),error)"
   ]
  },
  {
   "cell_type": "code",
   "execution_count": null,
   "id": "bc24f206",
   "metadata": {},
   "outputs": [],
   "source": [
    "cfg, error =scores[2]\n",
    "cfg = tuple(eval(cfg))\n",
    "data = series.values\n",
    "train= data[:-n_test]\n",
    "test= data[-n_test:]\n",
    "order, sorder, trend = cfg\n",
    "model = SARIMAX(train, order=order, seasonal_order=sorder, trend=trend, enforce_stationarity=False, \n",
    "                    enforce_invertibility=False)\n",
    "# fit model\n",
    "model_fit = model.fit(disp=False)\n",
    "# make one step forecast\n",
    "yhat = model_fit.predict(start=0, end= n_test-1, exog= test)"
   ]
  },
  {
   "cell_type": "code",
   "execution_count": null,
   "id": "309f7d2f",
   "metadata": {
    "scrolled": true
   },
   "outputs": [],
   "source": [
    "# plot the prediction and the actual test values\n",
    "x_years = avg_temp.index\n",
    "# Plot actual, training, and forecasted values\n",
    "plt.plot(x_years[:train.shape[0]], train, alpha=0.75, label='training')\n",
    "plt.plot(x_years[train.shape[0]:], yhat, alpha=0.75, label='forecast')\n",
    "plt.plot(x_years[train.shape[0]:], test, alpha=0.75, label='actual')\n",
    "plt.title(\"Land Avg Temp forecasts - SARIMA\")\n",
    "plt.xlabel(\"Year\")\n",
    "plt.ylabel(\"Average Temperature per year\")\n",
    "plt.legend(loc='upper left', fontsize=8)\n",
    "plt.show()"
   ]
  },
  {
   "cell_type": "code",
   "execution_count": null,
   "id": "1e94f28f",
   "metadata": {},
   "outputs": [],
   "source": []
  }
 ],
 "metadata": {
  "kernelspec": {
   "display_name": "Python 3 (ipykernel)",
   "language": "python",
   "name": "python3"
  },
  "language_info": {
   "codemirror_mode": {
    "name": "ipython",
    "version": 3
   },
   "file_extension": ".py",
   "mimetype": "text/x-python",
   "name": "python",
   "nbconvert_exporter": "python",
   "pygments_lexer": "ipython3",
   "version": "3.9.7"
  }
 },
 "nbformat": 4,
 "nbformat_minor": 5
}
