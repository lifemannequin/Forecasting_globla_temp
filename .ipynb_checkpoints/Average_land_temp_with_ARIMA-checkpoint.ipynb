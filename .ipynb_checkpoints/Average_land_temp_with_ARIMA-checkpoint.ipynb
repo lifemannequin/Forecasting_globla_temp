{
 "cells": [
  {
   "cell_type": "markdown",
   "id": "62176b02",
   "metadata": {},
   "source": [
    "# Introduction\n",
    "\n",
    "The answer I am trying to answer is: Can we forcast the global temperature using only past temperature? For this purpose I use ARIMA and SARIMA to forcarst values of temperatures.\n",
    "\n",
    "The data comes from the Berkeley Earth, which is affiliated with Lawrence Berkeley National Laboratory. Data obtained from https://www.kaggle.com/datasets/berkeleyearth/climate-change-earth-surface-temperature-data"
   ]
  },
  {
   "cell_type": "markdown",
   "id": "5adad330",
   "metadata": {},
   "source": [
    "# EDA"
   ]
  },
  {
   "cell_type": "code",
   "execution_count": 1,
   "id": "d31a2d8a",
   "metadata": {},
   "outputs": [],
   "source": [
    "import numpy as np\n",
    "import pandas as pd\n",
    "import matplotlib.pyplot as plt"
   ]
  },
  {
   "cell_type": "code",
   "execution_count": 2,
   "id": "b5e74909",
   "metadata": {},
   "outputs": [],
   "source": [
    "data = pd.read_csv('/home/veroastro/Documents/earth_temperature/data/GlobalTemperatures.csv')\n",
    "data.head()"
   ]
  },
  {
   "cell_type": "code",
   "execution_count": 3,
   "id": "ad2de987",
   "metadata": {},
   "outputs": [],
   "source": [
    "data.dtypes"
   ]
  },
  {
   "cell_type": "code",
   "execution_count": 4,
   "id": "8724e686",
   "metadata": {},
   "outputs": [],
   "source": [
    "#changing the date column,dt, into a datetime object\n",
    "data['dt']=pd.to_datetime(data['dt'])\n",
    "data.dtypes"
   ]
  },
  {
   "cell_type": "code",
   "execution_count": 5,
   "id": "5a9218da",
   "metadata": {
    "scrolled": true
   },
   "outputs": [],
   "source": [
    "data.isna().sum()"
   ]
  },
  {
   "cell_type": "code",
   "execution_count": 6,
   "id": "ea9b312c",
   "metadata": {},
   "outputs": [],
   "source": [
    "cols = ['dt', 'LandAverageTemperature', 'LandAverageTemperatureUncertainty']\n",
    "land_avg_temp = data[cols].dropna()\n",
    "land_avg_temp.isna().sum()"
   ]
  },
  {
   "cell_type": "code",
   "execution_count": 7,
   "id": "ad472817",
   "metadata": {},
   "outputs": [],
   "source": [
    "# creating the dataset of temperatures by year\n",
    "land_avg_temp['years'] = pd.DatetimeIndex(land_avg_temp['dt']).year \n",
    "yearly = land_avg_temp.groupby('years').mean()\n",
    "print(yearly.describe())\n"
   ]
  },
  {
   "cell_type": "code",
   "execution_count": 8,
   "id": "4c534d8e",
   "metadata": {},
   "outputs": [],
   "source": [
    "avg_temp = yearly['LandAverageTemperature'].drop(yearly.index[:100])\n",
    "avg_temp.shape"
   ]
  },
  {
   "cell_type": "code",
   "execution_count": 9,
   "id": "f47bfe7e",
   "metadata": {},
   "outputs": [],
   "source": [
    "y = yearly['LandAverageTemperature']\n",
    "unc = yearly['LandAverageTemperatureUncertainty']\n",
    "yearly.index\n",
    "plt.plot(y)\n",
    "plt.fill_between(yearly.index,y+unc,y-unc,alpha=0.1, color='b' )\n",
    "plt.title(\"Average Land Temperature per year\")\n",
    "plt.xlabel(\"Year\")\n",
    "plt.ylabel(\"Average Temperature per year\")\n",
    "plt.show()"
   ]
  },
  {
   "cell_type": "markdown",
   "id": "434bfbca",
   "metadata": {},
   "source": [
    "# Analysis\n",
    "\n",
    "## Data Preprocessing"
   ]
  },
  {
   "cell_type": "code",
   "execution_count": 10,
   "id": "08986ab4",
   "metadata": {},
   "outputs": [],
   "source": [
    "# splitting the dataset into train and test datasets\n",
    "size = len(avg_temp)\n",
    "cutoff = int(size*0.7)\n",
    "train = avg_temp[:cutoff]\n",
    "test = avg_temp[cutoff:]\n",
    "print('train:', train.shape)\n",
    "print('test:', test.shape)"
   ]
  },
  {
   "cell_type": "markdown",
   "id": "044172a0",
   "metadata": {},
   "source": [
    "We start the count of the training dataset at 100 because of the big uncertainty and variation of the first 100 years of the dataset. The model predictions dont match the increasing trend in average temperatures. So the data we use is from 1850 instead of 1750."
   ]
  },
  {
   "cell_type": "code",
   "execution_count": 11,
   "id": "68b53c88",
   "metadata": {},
   "outputs": [],
   "source": [
    "from pmdarima.arima.stationarity import ADFTest\n",
    "\n",
    "\n",
    "# Test whether we should difference at the alpha=0.05 significance level\n",
    "adf_test = ADFTest(alpha=0.05)\n",
    "p_val_all, should_diff_all= adf_test.should_diff(avg_temp)  # (0.01, False)\n",
    "adf_test = ADFTest(alpha=0.05)\n",
    "p_val_red, should_diff_red= adf_test.should_diff(avg_temp[100:]) \n",
    "print('pval all', p_val_all)\n",
    "print(should_diff_all)\n",
    "print('pval reduce 100', p_val_red)\n",
    "print(should_diff_red)"
   ]
  },
  {
   "cell_type": "markdown",
   "id": "6055e3f9",
   "metadata": {},
   "source": [
    "Eliminating the first 100 years changes the p-value from 0.03 to 0.4 which changes the need to difference it becauset the time series becomes non-stationary."
   ]
  },
  {
   "cell_type": "markdown",
   "id": "dfc4c7e0",
   "metadata": {},
   "source": [
    "## Building Models\n",
    "### Using Arima"
   ]
  },
  {
   "cell_type": "code",
   "execution_count": null,
   "id": "c4517f88",
   "metadata": {},
   "outputs": [],
   "source": [
    "import pmdarima as pm\n",
    "\n",
    "# auto-ARIMA\n",
    "model = pm.auto_arima(train, start_p=1, start_q=1,\n",
    "                         test='adf',\n",
    "                         max_p=3, max_q=3, m=12,\n",
    "                         start_P=0, seasonal=False,\n",
    "                         d=None, D=1, trace=True,\n",
    "                         error_action='ignore',  \n",
    "                         suppress_warnings=True, \n",
    "                         stepwise=True)\n",
    "\n",
    "model.summary()"
   ]
  },
  {
   "cell_type": "code",
   "execution_count": 13,
   "id": "90d85648",
   "metadata": {},
   "outputs": [],
   "source": [
    "# Forecast\n",
    "preds, conf_int = model.predict(n_periods=test.shape[0], return_conf_int=True)\n",
    "\n",
    "# plot the prediction and the actual test values\n",
    "x_axis = np.arange(train.shape[0] + preds.shape[0])\n",
    "x_years = x_axis + 1850  # Year starts at 1850\n",
    "\n",
    "plt.plot(x_years[x_axis[:train.shape[0]]], train, alpha=0.75, label='training')\n",
    "plt.plot(x_years[x_axis[train.shape[0]:]], preds, alpha=0.75, label='forecast')  # Forecasts\n",
    "plt.plot(x_years[x_axis[train.shape[0]:]], test,alpha=0.75, label='actual')  # Test data\n",
    "plt.fill_between(x_years[x_axis[-preds.shape[0]:]],\n",
    "                 conf_int[:, 0], conf_int[:, 1],\n",
    "                 alpha=0.1, color='b')\n",
    "plt.title(\"Land Avg Temp forecasts - ARIMA\")\n",
    "plt.xlabel(\"Year\")\n",
    "plt.ylabel(\"Average Temperature per year\")\n",
    "plt.legend(loc='upper left', fontsize=8)\n",
    "plt.show()"
   ]
  },
  {
   "cell_type": "code",
   "execution_count": 14,
   "id": "23d98eac",
   "metadata": {},
   "outputs": [],
   "source": [
    "#Calculate the mean absolute percentage\n",
    "mape = np.mean(np.abs(preds - test)/np.abs(test))\n",
    "print((1-mape)*100) #print mape as an accuracy percentage"
   ]
  },
  {
   "cell_type": "code",
   "execution_count": 15,
   "id": "e22bb1cc",
   "metadata": {},
   "outputs": [],
   "source": [
    "from sklearn.metrics import mean_squared_error\n",
    "print(np.sqrt(mean_squared_error(test,preds)))"
   ]
  },
  {
   "cell_type": "markdown",
   "id": "7b30160a",
   "metadata": {},
   "source": [
    "### Using SARIMA \n",
    "Adding seasonality to the model."
   ]
  },
  {
   "cell_type": "code",
   "execution_count": null,
   "id": "e8072dc0",
   "metadata": {},
   "outputs": [],
   "source": [
    "# Seasonal - fit stepwise auto-ARIMA\n",
    "smodel = pm.auto_arima(train, start_p=0, start_q=0, d=1,\n",
    "                         test='adf',\n",
    "                         max_p=3, max_q=3, m=12,\n",
    "                         start_P=0, start_Q=0,\n",
    "                          seasonal=True, D=1, trace=True,\n",
    "                         error_action='ignore',  \n",
    "                         suppress_warnings=True, \n",
    "                         stepwise=True, n_fits=50)\n"
   ]
  },
  {
   "cell_type": "code",
   "execution_count": null,
   "id": "d1fa40c2",
   "metadata": {},
   "outputs": [],
   "source": [
    "smodel.summary()"
   ]
  },
  {
   "cell_type": "code",
   "execution_count": null,
   "id": "3003ace7",
   "metadata": {},
   "outputs": [],
   "source": [
    "# Forecast\n",
    "preds, conf_int = smodel.predict(n_periods=test.shape[0], return_conf_int=True)\n",
    "\n",
    "# plot the prediction and the actual test values\n",
    "x_axis = np.arange(train.shape[0] + preds.shape[0])\n",
    "x_years = x_axis + 1850  # Year starts at 1850\n",
    "\n",
    "plt.plot(x_years[x_axis[:train.shape[0]]], train, alpha=0.75, label='training')\n",
    "plt.plot(x_years[x_axis[train.shape[0]:]], preds, alpha=0.75, label='forecast')  # Forecasts\n",
    "plt.plot(x_years[x_axis[train.shape[0]:]], test,alpha=0.75, label='actual')  # Test data\n",
    "plt.fill_between(x_years[x_axis[-preds.shape[0]:]],\n",
    "                 conf_int[:, 0], conf_int[:, 1],\n",
    "                 alpha=0.1, color='b')\n",
    "plt.title(\"Land Avg Temp forecasts - SARIMA\")\n",
    "plt.xlabel(\"Year\")\n",
    "plt.ylabel(\"Average Temperature per year\")\n",
    "plt.legend(loc='upper left', fontsize=8)\n",
    "plt.show()"
   ]
  },
  {
   "cell_type": "code",
   "execution_count": null,
   "id": "27c86434",
   "metadata": {},
   "outputs": [],
   "source": [
    "#Calculate the mean absolute percentage\n",
    "mape = np.mean(np.abs(preds - test)/np.abs(test))\n",
    "print((1-mape)*100) #print mape as an accuracy percentage"
   ]
  },
  {
   "cell_type": "code",
   "execution_count": null,
   "id": "556c832f",
   "metadata": {},
   "outputs": [],
   "source": [
    "print(np.sqrt(mean_squared_error(test,preds)))"
   ]
  },
  {
   "cell_type": "markdown",
   "id": "891b2580",
   "metadata": {},
   "source": [
    "Using the Mean Absolute Percentage Error (MAPE), we have a 97.4% accuracy of the SARIMA model. Even if the mape of the ARIMA and SARIMA model are similar(97.4 and 97.2), from the images SARIMA seems to be doing a better job.  Looking at the image above it seems it under forcast the values of actual temperature after about the year 2000. "
   ]
  }
 ],
 "metadata": {
  "kernelspec": {
   "display_name": "Python 3 (ipykernel)",
   "language": "python",
   "name": "python3"
  },
  "language_info": {
   "codemirror_mode": {
    "name": "ipython",
    "version": 3
   },
   "file_extension": ".py",
   "mimetype": "text/x-python",
   "name": "python",
   "nbconvert_exporter": "python",
   "pygments_lexer": "ipython3",
   "version": "3.9.7"
  }
 },
 "nbformat": 4,
 "nbformat_minor": 5
}
