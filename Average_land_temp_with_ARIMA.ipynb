{
 "cells": [
  {
   "cell_type": "markdown",
   "id": "62176b02",
   "metadata": {},
   "source": [
    "The answer I am trying to answer is: Can we forcast the global temperature using only past temperature? For this purpose I use ARIMA and SARIMA to forcarst values of temperatures.\n",
    "\n",
    "The data comes from the Berkeley Earth, which is affiliated with Lawrence Berkeley National Laboratory. Data obtained from https://www.kaggle.com/datasets/berkeleyearth/climate-change-earth-surface-temperature-data"
   ]
  },
  {
   "cell_type": "code",
   "execution_count": 1,
   "id": "d31a2d8a",
   "metadata": {},
   "outputs": [],
   "source": [
    "import numpy as np\n",
    "import pandas as pd\n",
    "import matplotlib.pyplot as plt"
   ]
  },
  {
   "cell_type": "code",
   "execution_count": 2,
   "id": "b5e74909",
   "metadata": {},
   "outputs": [
    {
     "data": {
      "text/html": [
       "<div>\n",
       "<style scoped>\n",
       "    .dataframe tbody tr th:only-of-type {\n",
       "        vertical-align: middle;\n",
       "    }\n",
       "\n",
       "    .dataframe tbody tr th {\n",
       "        vertical-align: top;\n",
       "    }\n",
       "\n",
       "    .dataframe thead th {\n",
       "        text-align: right;\n",
       "    }\n",
       "</style>\n",
       "<table border=\"1\" class=\"dataframe\">\n",
       "  <thead>\n",
       "    <tr style=\"text-align: right;\">\n",
       "      <th></th>\n",
       "      <th>dt</th>\n",
       "      <th>LandAverageTemperature</th>\n",
       "      <th>LandAverageTemperatureUncertainty</th>\n",
       "      <th>LandMaxTemperature</th>\n",
       "      <th>LandMaxTemperatureUncertainty</th>\n",
       "      <th>LandMinTemperature</th>\n",
       "      <th>LandMinTemperatureUncertainty</th>\n",
       "      <th>LandAndOceanAverageTemperature</th>\n",
       "      <th>LandAndOceanAverageTemperatureUncertainty</th>\n",
       "    </tr>\n",
       "  </thead>\n",
       "  <tbody>\n",
       "    <tr>\n",
       "      <th>0</th>\n",
       "      <td>1750-01-01</td>\n",
       "      <td>3.034</td>\n",
       "      <td>3.574</td>\n",
       "      <td>NaN</td>\n",
       "      <td>NaN</td>\n",
       "      <td>NaN</td>\n",
       "      <td>NaN</td>\n",
       "      <td>NaN</td>\n",
       "      <td>NaN</td>\n",
       "    </tr>\n",
       "    <tr>\n",
       "      <th>1</th>\n",
       "      <td>1750-02-01</td>\n",
       "      <td>3.083</td>\n",
       "      <td>3.702</td>\n",
       "      <td>NaN</td>\n",
       "      <td>NaN</td>\n",
       "      <td>NaN</td>\n",
       "      <td>NaN</td>\n",
       "      <td>NaN</td>\n",
       "      <td>NaN</td>\n",
       "    </tr>\n",
       "    <tr>\n",
       "      <th>2</th>\n",
       "      <td>1750-03-01</td>\n",
       "      <td>5.626</td>\n",
       "      <td>3.076</td>\n",
       "      <td>NaN</td>\n",
       "      <td>NaN</td>\n",
       "      <td>NaN</td>\n",
       "      <td>NaN</td>\n",
       "      <td>NaN</td>\n",
       "      <td>NaN</td>\n",
       "    </tr>\n",
       "    <tr>\n",
       "      <th>3</th>\n",
       "      <td>1750-04-01</td>\n",
       "      <td>8.490</td>\n",
       "      <td>2.451</td>\n",
       "      <td>NaN</td>\n",
       "      <td>NaN</td>\n",
       "      <td>NaN</td>\n",
       "      <td>NaN</td>\n",
       "      <td>NaN</td>\n",
       "      <td>NaN</td>\n",
       "    </tr>\n",
       "    <tr>\n",
       "      <th>4</th>\n",
       "      <td>1750-05-01</td>\n",
       "      <td>11.573</td>\n",
       "      <td>2.072</td>\n",
       "      <td>NaN</td>\n",
       "      <td>NaN</td>\n",
       "      <td>NaN</td>\n",
       "      <td>NaN</td>\n",
       "      <td>NaN</td>\n",
       "      <td>NaN</td>\n",
       "    </tr>\n",
       "  </tbody>\n",
       "</table>\n",
       "</div>"
      ],
      "text/plain": [
       "           dt  LandAverageTemperature  LandAverageTemperatureUncertainty  \\\n",
       "0  1750-01-01                   3.034                              3.574   \n",
       "1  1750-02-01                   3.083                              3.702   \n",
       "2  1750-03-01                   5.626                              3.076   \n",
       "3  1750-04-01                   8.490                              2.451   \n",
       "4  1750-05-01                  11.573                              2.072   \n",
       "\n",
       "   LandMaxTemperature  LandMaxTemperatureUncertainty  LandMinTemperature  \\\n",
       "0                 NaN                            NaN                 NaN   \n",
       "1                 NaN                            NaN                 NaN   \n",
       "2                 NaN                            NaN                 NaN   \n",
       "3                 NaN                            NaN                 NaN   \n",
       "4                 NaN                            NaN                 NaN   \n",
       "\n",
       "   LandMinTemperatureUncertainty  LandAndOceanAverageTemperature  \\\n",
       "0                            NaN                             NaN   \n",
       "1                            NaN                             NaN   \n",
       "2                            NaN                             NaN   \n",
       "3                            NaN                             NaN   \n",
       "4                            NaN                             NaN   \n",
       "\n",
       "   LandAndOceanAverageTemperatureUncertainty  \n",
       "0                                        NaN  \n",
       "1                                        NaN  \n",
       "2                                        NaN  \n",
       "3                                        NaN  \n",
       "4                                        NaN  "
      ]
     },
     "execution_count": 2,
     "metadata": {},
     "output_type": "execute_result"
    }
   ],
   "source": [
    "data = pd.read_csv('/home/veroastro/Documents/earth_temperature/data/GlobalTemperatures.csv')\n",
    "data.head()"
   ]
  },
  {
   "cell_type": "code",
   "execution_count": 3,
   "id": "ad2de987",
   "metadata": {},
   "outputs": [
    {
     "data": {
      "text/plain": [
       "dt                                            object\n",
       "LandAverageTemperature                       float64\n",
       "LandAverageTemperatureUncertainty            float64\n",
       "LandMaxTemperature                           float64\n",
       "LandMaxTemperatureUncertainty                float64\n",
       "LandMinTemperature                           float64\n",
       "LandMinTemperatureUncertainty                float64\n",
       "LandAndOceanAverageTemperature               float64\n",
       "LandAndOceanAverageTemperatureUncertainty    float64\n",
       "dtype: object"
      ]
     },
     "execution_count": 3,
     "metadata": {},
     "output_type": "execute_result"
    }
   ],
   "source": [
    "data.dtypes"
   ]
  },
  {
   "cell_type": "code",
   "execution_count": 4,
   "id": "8724e686",
   "metadata": {},
   "outputs": [
    {
     "data": {
      "text/plain": [
       "dt                                           datetime64[ns]\n",
       "LandAverageTemperature                              float64\n",
       "LandAverageTemperatureUncertainty                   float64\n",
       "LandMaxTemperature                                  float64\n",
       "LandMaxTemperatureUncertainty                       float64\n",
       "LandMinTemperature                                  float64\n",
       "LandMinTemperatureUncertainty                       float64\n",
       "LandAndOceanAverageTemperature                      float64\n",
       "LandAndOceanAverageTemperatureUncertainty           float64\n",
       "dtype: object"
      ]
     },
     "execution_count": 4,
     "metadata": {},
     "output_type": "execute_result"
    }
   ],
   "source": [
    "#changing the date column,dt, into a datetime object\n",
    "data['dt']=pd.to_datetime(data['dt'])\n",
    "data.dtypes"
   ]
  },
  {
   "cell_type": "code",
   "execution_count": 5,
   "id": "5a9218da",
   "metadata": {
    "scrolled": true
   },
   "outputs": [
    {
     "data": {
      "text/plain": [
       "dt                                              0\n",
       "LandAverageTemperature                         12\n",
       "LandAverageTemperatureUncertainty              12\n",
       "LandMaxTemperature                           1200\n",
       "LandMaxTemperatureUncertainty                1200\n",
       "LandMinTemperature                           1200\n",
       "LandMinTemperatureUncertainty                1200\n",
       "LandAndOceanAverageTemperature               1200\n",
       "LandAndOceanAverageTemperatureUncertainty    1200\n",
       "dtype: int64"
      ]
     },
     "execution_count": 5,
     "metadata": {},
     "output_type": "execute_result"
    }
   ],
   "source": [
    "data.isna().sum()"
   ]
  },
  {
   "cell_type": "code",
   "execution_count": 6,
   "id": "ea9b312c",
   "metadata": {},
   "outputs": [
    {
     "data": {
      "text/plain": [
       "dt                                   0\n",
       "LandAverageTemperature               0\n",
       "LandAverageTemperatureUncertainty    0\n",
       "dtype: int64"
      ]
     },
     "execution_count": 6,
     "metadata": {},
     "output_type": "execute_result"
    }
   ],
   "source": [
    "cols = ['dt', 'LandAverageTemperature', 'LandAverageTemperatureUncertainty']\n",
    "land_avg_temp = data[cols].dropna()\n",
    "land_avg_temp.isna().sum()"
   ]
  },
  {
   "cell_type": "code",
   "execution_count": 7,
   "id": "ad472817",
   "metadata": {},
   "outputs": [
    {
     "name": "stdout",
     "output_type": "stream",
     "text": [
      "       LandAverageTemperature  LandAverageTemperatureUncertainty\n",
      "count              266.000000                         266.000000\n",
      "mean                 8.369337                           0.945719\n",
      "std                  0.584921                           0.994110\n",
      "min                  5.779833                           0.062083\n",
      "25%                  8.081563                           0.210208\n",
      "50%                  8.372167                           0.405583\n",
      "75%                  8.704167                           1.629563\n",
      "max                  9.831000                           4.026000\n"
     ]
    },
    {
     "data": {
      "text/plain": [
       "(266,)"
      ]
     },
     "execution_count": 7,
     "metadata": {},
     "output_type": "execute_result"
    }
   ],
   "source": [
    "# creating the dataset of temperatures by year\n",
    "land_avg_temp['years'] = pd.DatetimeIndex(land_avg_temp['dt']).year \n",
    "yearly = land_avg_temp.groupby('years').mean()\n",
    "print(yearly.describe())\n",
    "avg_temp = yearly['LandAverageTemperature']\n",
    "avg_temp.shape"
   ]
  },
  {
   "cell_type": "code",
   "execution_count": 8,
   "id": "f47bfe7e",
   "metadata": {},
   "outputs": [
    {
     "data": {
      "image/png": "[encoded data removed]",
      "text/plain": [
       "<Figure size 432x288 with 1 Axes>"
      ]
     },
     "metadata": {
      "needs_background": "light"
     },
     "output_type": "display_data"
    }
   ],
   "source": [
    "y = yearly['LandAverageTemperature']\n",
    "unc = yearly['LandAverageTemperatureUncertainty']\n",
    "yearly.index\n",
    "plt.plot(y)\n",
    "plt.fill_between(yearly.index,y+unc,y-unc,alpha=0.1, color='b' )\n",
    "plt.title(\"Average Land Temperature per year\")\n",
    "plt.xlabel(\"Year\")\n",
    "plt.ylabel(\"Average Temperature per year\")\n",
    "plt.show()"
   ]
  },
  {
   "cell_type": "code",
   "execution_count": 9,
   "id": "08986ab4",
   "metadata": {},
   "outputs": [
    {
     "name": "stdout",
     "output_type": "stream",
     "text": [
      "train: (86,)\n",
      "test: (80,)\n"
     ]
    }
   ],
   "source": [
    "# splitting the dataset into train and test datasets\n",
    "size = len(avg_temp)\n",
    "cutoff = int(size*0.7)\n",
    "train = avg_temp[100:cutoff]\n",
    "test = avg_temp[cutoff:]\n",
    "print('train:', train.shape)\n",
    "print('test:', test.shape)"
   ]
  },
  {
   "cell_type": "markdown",
   "id": "044172a0",
   "metadata": {},
   "source": [
    "We start the count of the training dataset at 100 because of the big uncertainty and variation of the first 100 years of the dataset. The model predictions dont match the increasing trend in average temperatures. So the data we use is from 1850 instead of 1750."
   ]
  },
  {
   "cell_type": "code",
   "execution_count": 10,
   "id": "68b53c88",
   "metadata": {},
   "outputs": [
    {
     "name": "stdout",
     "output_type": "stream",
     "text": [
      "pval 0.03493678882214066\n",
      "False\n"
     ]
    }
   ],
   "source": [
    "from pmdarima.arima.stationarity import ADFTest\n",
    "\n",
    "\n",
    "# Test whether we should difference at the alpha=0.05 significance level\n",
    "adf_test = ADFTest(alpha=0.05)\n",
    "p_val_all, should_diff_all= adf_test.should_diff(avg_temp)  # (0.01, False)\n",
    "adf_test = ADFTest(alpha=0.05)\n",
    "p_val_red, should_diff_red= adf_test.should_diff(avg_temp[100:]) \n",
    "print('pval all', p_val_all)\n",
    "print(should_diff_all)\n",
    "print('pval reduce 100', p_val_red)\n",
    "print(should_diff_red)"
   ]
  },
  {
   "cell_type": "markdown",
   "id": "6055e3f9",
   "metadata": {},
   "source": [
    "Eliminating the first 100 years changes the p-value from 0.03 to 0.4 which changes the need to difference it becauset the time series becomes non-stationary."
   ]
  },
  {
   "cell_type": "markdown",
   "id": "dfc4c7e0",
   "metadata": {},
   "source": [
    "## Using Arima"
   ]
  },
  {
   "cell_type": "code",
   "execution_count": 11,
   "id": "c4517f88",
   "metadata": {},
   "outputs": [
    {
     "name": "stdout",
     "output_type": "stream",
     "text": [
      "Performing stepwise search to minimize aic\n",
      " ARIMA(1,1,1)(0,0,0)[0] intercept   : AIC=inf, Time=0.18 sec\n"
     ]
    },
    {
     "name": "stderr",
     "output_type": "stream",
     "text": [
      "/home/veroastro/anaconda3/lib/python3.9/site-packages/pmdarima/arima/_validation.py:62: UserWarning: m (12) set for non-seasonal fit. Setting to 0\n",
      "  warnings.warn(\"m (%i) set for non-seasonal fit. Setting to 0\" % m)\n"
     ]
    },
    {
     "name": "stdout",
     "output_type": "stream",
     "text": [
      " ARIMA(0,1,0)(0,0,0)[0] intercept   : AIC=-13.180, Time=0.02 sec\n",
      " ARIMA(1,1,0)(0,0,0)[0] intercept   : AIC=-15.476, Time=0.04 sec\n",
      " ARIMA(0,1,1)(0,0,0)[0] intercept   : AIC=-25.585, Time=0.04 sec\n",
      " ARIMA(0,1,0)(0,0,0)[0]             : AIC=-15.087, Time=0.01 sec\n",
      " ARIMA(0,1,2)(0,0,0)[0] intercept   : AIC=-32.613, Time=0.07 sec\n",
      " ARIMA(1,1,2)(0,0,0)[0] intercept   : AIC=inf, Time=0.23 sec\n",
      " ARIMA(0,1,3)(0,0,0)[0] intercept   : AIC=inf, Time=0.15 sec\n",
      " ARIMA(1,1,3)(0,0,0)[0] intercept   : AIC=inf, Time=0.19 sec\n",
      " ARIMA(0,1,2)(0,0,0)[0]             : AIC=-32.198, Time=0.03 sec\n",
      "\n",
      "Best model:  ARIMA(0,1,2)(0,0,0)[0] intercept\n",
      "Total fit time: 0.978 seconds\n"
     ]
    },
    {
     "data": {
      "text/html": [
       "<table class=\"simpletable\">\n",
       "<caption>SARIMAX Results</caption>\n",
       "<tr>\n",
       "  <th>Dep. Variable:</th>           <td>y</td>        <th>  No. Observations:  </th>   <td>86</td>   \n",
       "</tr>\n",
       "<tr>\n",
       "  <th>Model:</th>           <td>SARIMAX(0, 1, 2)</td> <th>  Log Likelihood     </th> <td>20.306</td> \n",
       "</tr>\n",
       "<tr>\n",
       "  <th>Date:</th>            <td>Sat, 26 Mar 2022</td> <th>  AIC                </th> <td>-32.613</td>\n",
       "</tr>\n",
       "<tr>\n",
       "  <th>Time:</th>                <td>18:42:04</td>     <th>  BIC                </th> <td>-22.842</td>\n",
       "</tr>\n",
       "<tr>\n",
       "  <th>Sample:</th>                  <td>0</td>        <th>  HQIC               </th> <td>-28.683</td>\n",
       "</tr>\n",
       "<tr>\n",
       "  <th></th>                       <td> - 86</td>      <th>                     </th>    <td> </td>   \n",
       "</tr>\n",
       "<tr>\n",
       "  <th>Covariance Type:</th>        <td>opg</td>       <th>                     </th>    <td> </td>   \n",
       "</tr>\n",
       "</table>\n",
       "<table class=\"simpletable\">\n",
       "<tr>\n",
       "      <td></td>         <th>coef</th>     <th>std err</th>      <th>z</th>      <th>P>|z|</th>  <th>[0.025</th>    <th>0.975]</th>  \n",
       "</tr>\n",
       "<tr>\n",
       "  <th>intercept</th> <td>    0.0061</td> <td>    0.003</td> <td>    2.297</td> <td> 0.022</td> <td>    0.001</td> <td>    0.011</td>\n",
       "</tr>\n",
       "<tr>\n",
       "  <th>ma.L1</th>     <td>   -0.5535</td> <td>    0.109</td> <td>   -5.100</td> <td> 0.000</td> <td>   -0.766</td> <td>   -0.341</td>\n",
       "</tr>\n",
       "<tr>\n",
       "  <th>ma.L2</th>     <td>   -0.3419</td> <td>    0.120</td> <td>   -2.861</td> <td> 0.004</td> <td>   -0.576</td> <td>   -0.108</td>\n",
       "</tr>\n",
       "<tr>\n",
       "  <th>sigma2</th>    <td>    0.0357</td> <td>    0.006</td> <td>    5.851</td> <td> 0.000</td> <td>    0.024</td> <td>    0.048</td>\n",
       "</tr>\n",
       "</table>\n",
       "<table class=\"simpletable\">\n",
       "<tr>\n",
       "  <th>Ljung-Box (L1) (Q):</th>     <td>0.23</td> <th>  Jarque-Bera (JB):  </th> <td>0.82</td> \n",
       "</tr>\n",
       "<tr>\n",
       "  <th>Prob(Q):</th>                <td>0.63</td> <th>  Prob(JB):          </th> <td>0.66</td> \n",
       "</tr>\n",
       "<tr>\n",
       "  <th>Heteroskedasticity (H):</th> <td>0.58</td> <th>  Skew:              </th> <td>-0.18</td>\n",
       "</tr>\n",
       "<tr>\n",
       "  <th>Prob(H) (two-sided):</th>    <td>0.15</td> <th>  Kurtosis:          </th> <td>2.68</td> \n",
       "</tr>\n",
       "</table><br/><br/>Warnings:<br/>[1] Covariance matrix calculated using the outer product of gradients (complex-step)."
      ],
      "text/plain": [
       "<class 'statsmodels.iolib.summary.Summary'>\n",
       "\"\"\"\n",
       "                               SARIMAX Results                                \n",
       "==============================================================================\n",
       "Dep. Variable:                      y   No. Observations:                   86\n",
       "Model:               SARIMAX(0, 1, 2)   Log Likelihood                  20.306\n",
       "Date:                Sat, 26 Mar 2022   AIC                            -32.613\n",
       "Time:                        18:42:04   BIC                            -22.842\n",
       "Sample:                             0   HQIC                           -28.683\n",
       "                                 - 86                                         \n",
       "Covariance Type:                  opg                                         \n",
       "==============================================================================\n",
       "                 coef    std err          z      P>|z|      [0.025      0.975]\n",
       "------------------------------------------------------------------------------\n",
       "intercept      0.0061      0.003      2.297      0.022       0.001       0.011\n",
       "ma.L1         -0.5535      0.109     -5.100      0.000      -0.766      -0.341\n",
       "ma.L2         -0.3419      0.120     -2.861      0.004      -0.576      -0.108\n",
       "sigma2         0.0357      0.006      5.851      0.000       0.024       0.048\n",
       "===================================================================================\n",
       "Ljung-Box (L1) (Q):                   0.23   Jarque-Bera (JB):                 0.82\n",
       "Prob(Q):                              0.63   Prob(JB):                         0.66\n",
       "Heteroskedasticity (H):               0.58   Skew:                            -0.18\n",
       "Prob(H) (two-sided):                  0.15   Kurtosis:                         2.68\n",
       "===================================================================================\n",
       "\n",
       "Warnings:\n",
       "[1] Covariance matrix calculated using the outer product of gradients (complex-step).\n",
       "\"\"\""
      ]
     },
     "execution_count": 11,
     "metadata": {},
     "output_type": "execute_result"
    }
   ],
   "source": [
    "#!pip3 install pmdarima\n",
    "import pmdarima as pm\n",
    "\n",
    "# auto-ARIMA\n",
    "smodel = pm.auto_arima(train, start_p=1, start_q=1,\n",
    "                         test='adf',\n",
    "                         max_p=3, max_q=3, m=12,\n",
    "                         start_P=0, seasonal=False,\n",
    "                         d=None, D=1, trace=True,\n",
    "                         error_action='ignore',  \n",
    "                         suppress_warnings=True, \n",
    "                         stepwise=True)\n",
    "\n",
    "smodel.summary()"
   ]
  },
  {
   "cell_type": "code",
   "execution_count": 12,
   "id": "90d85648",
   "metadata": {},
   "outputs": [
    {
     "data": {
      "image/png": "[encoded data removed]",
      "text/plain": [
       "<Figure size 432x288 with 1 Axes>"
      ]
     },
     "metadata": {
      "needs_background": "light"
     },
     "output_type": "display_data"
    }
   ],
   "source": [
    "# Forecast\n",
    "preds, conf_int = smodel.predict(n_periods=test.shape[0], return_conf_int=True)\n",
    "\n",
    "# plot the prediction and the actual test values\n",
    "x_axis = np.arange(train.shape[0] + preds.shape[0])\n",
    "x_years = x_axis + 1850  # Year starts at 1850\n",
    "\n",
    "plt.plot(x_years[x_axis[:train.shape[0]]], train, alpha=0.75, label='training')\n",
    "plt.plot(x_years[x_axis[train.shape[0]:]], preds, alpha=0.75, label='forecast')  # Forecasts\n",
    "plt.plot(x_years[x_axis[train.shape[0]:]], test,alpha=0.75, label='actual')  # Test data\n",
    "plt.fill_between(x_years[x_axis[-preds.shape[0]:]],\n",
    "                 conf_int[:, 0], conf_int[:, 1],\n",
    "                 alpha=0.1, color='b')\n",
    "plt.title(\"Land Avg Temp forecasts - ARIMA\")\n",
    "plt.xlabel(\"Year\")\n",
    "plt.ylabel(\"Average Temperature per year\")\n",
    "plt.legend(loc='upper left', fontsize=8)\n",
    "plt.show()"
   ]
  },
  {
   "cell_type": "code",
   "execution_count": 13,
   "id": "23d98eac",
   "metadata": {},
   "outputs": [
    {
     "name": "stdout",
     "output_type": "stream",
     "text": [
      "97.25245502336743\n"
     ]
    }
   ],
   "source": [
    "#Calculate the mean absolute percentage\n",
    "mape = np.mean(np.abs(preds - test)/np.abs(test))\n",
    "print((1-mape)*100) #print mape as an accuracy percentage"
   ]
  },
  {
   "cell_type": "markdown",
   "id": "7b30160a",
   "metadata": {},
   "source": [
    "## Using SARIMA \n",
    "Adding seasonality to the model."
   ]
  },
  {
   "cell_type": "code",
   "execution_count": 14,
   "id": "e8072dc0",
   "metadata": {},
   "outputs": [
    {
     "name": "stdout",
     "output_type": "stream",
     "text": [
      "Performing stepwise search to minimize aic\n",
      " ARIMA(1,1,1)(0,1,1)[12]             : AIC=inf, Time=0.30 sec\n",
      " ARIMA(0,1,0)(0,1,0)[12]             : AIC=42.701, Time=0.01 sec\n",
      " ARIMA(1,1,0)(1,1,0)[12]             : AIC=25.384, Time=0.05 sec\n",
      " ARIMA(0,1,1)(0,1,1)[12]             : AIC=inf, Time=0.20 sec\n",
      " ARIMA(1,1,0)(0,1,0)[12]             : AIC=37.766, Time=0.02 sec\n",
      " ARIMA(1,1,0)(2,1,0)[12]             : AIC=16.928, Time=0.19 sec\n",
      " ARIMA(1,1,0)(2,1,1)[12]             : AIC=inf, Time=0.59 sec\n",
      " ARIMA(1,1,0)(1,1,1)[12]             : AIC=inf, Time=0.33 sec\n",
      " ARIMA(0,1,0)(2,1,0)[12]             : AIC=21.181, Time=0.21 sec\n",
      " ARIMA(2,1,0)(2,1,0)[12]             : AIC=10.591, Time=0.27 sec\n",
      " ARIMA(2,1,0)(1,1,0)[12]             : AIC=18.045, Time=0.14 sec\n",
      " ARIMA(2,1,0)(2,1,1)[12]             : AIC=inf, Time=0.84 sec\n",
      " ARIMA(2,1,0)(1,1,1)[12]             : AIC=inf, Time=0.28 sec\n",
      " ARIMA(3,1,0)(2,1,0)[12]             : AIC=-1.267, Time=0.39 sec\n",
      " ARIMA(3,1,0)(1,1,0)[12]             : AIC=6.255, Time=0.11 sec\n",
      " ARIMA(3,1,0)(2,1,1)[12]             : AIC=inf, Time=1.30 sec\n",
      " ARIMA(3,1,0)(1,1,1)[12]             : AIC=inf, Time=0.46 sec\n",
      " ARIMA(3,1,1)(2,1,0)[12]             : AIC=0.727, Time=0.48 sec\n",
      " ARIMA(2,1,1)(2,1,0)[12]             : AIC=3.197, Time=0.25 sec\n",
      " ARIMA(3,1,0)(2,1,0)[12] intercept   : AIC=0.615, Time=0.54 sec\n",
      "\n",
      "Best model:  ARIMA(3,1,0)(2,1,0)[12]          \n",
      "Total fit time: 6.982 seconds\n"
     ]
    }
   ],
   "source": [
    "# Seasonal - fit stepwise auto-ARIMA\n",
    "smodel = pm.auto_arima(train, start_p=1, start_q=1,\n",
    "                         test='adf',\n",
    "                         max_p=3, max_q=3, m=12,\n",
    "                         start_P=0, seasonal=True,\n",
    "                         d=None, D=1, trace=True,\n",
    "                         error_action='ignore',  \n",
    "                         suppress_warnings=True, \n",
    "                         stepwise=True)\n"
   ]
  },
  {
   "cell_type": "code",
   "execution_count": 15,
   "id": "3003ace7",
   "metadata": {},
   "outputs": [
    {
     "data": {
      "image/png": "[encoded data removed]",
      "text/plain": [
       "<Figure size 432x288 with 1 Axes>"
      ]
     },
     "metadata": {
      "needs_background": "light"
     },
     "output_type": "display_data"
    }
   ],
   "source": [
    "# Forecast\n",
    "preds, conf_int = smodel.predict(n_periods=test.shape[0], return_conf_int=True)\n",
    "\n",
    "# plot the prediction and the actual test values\n",
    "x_axis = np.arange(train.shape[0] + preds.shape[0])\n",
    "x_years = x_axis + 1850  # Year starts at 1850\n",
    "\n",
    "plt.plot(x_years[x_axis[:train.shape[0]]], train, alpha=0.75, label='training')\n",
    "plt.plot(x_years[x_axis[train.shape[0]:]], preds, alpha=0.75, label='forecast')  # Forecasts\n",
    "plt.plot(x_years[x_axis[train.shape[0]:]], test,alpha=0.75, label='actual')  # Test data\n",
    "plt.fill_between(x_years[x_axis[-preds.shape[0]:]],\n",
    "                 conf_int[:, 0], conf_int[:, 1],\n",
    "                 alpha=0.1, color='b')\n",
    "plt.title(\"Land Avg Temp forecasts - SARIMA\")\n",
    "plt.xlabel(\"Year\")\n",
    "plt.ylabel(\"Average Temperature per year\")\n",
    "plt.legend(loc='upper left', fontsize=8)\n",
    "plt.show()"
   ]
  },
  {
   "cell_type": "code",
   "execution_count": 16,
   "id": "27c86434",
   "metadata": {},
   "outputs": [
    {
     "name": "stdout",
     "output_type": "stream",
     "text": [
      "97.39195771731377\n"
     ]
    }
   ],
   "source": [
    "#Calculate the mean absolute percentage\n",
    "mape = np.mean(np.abs(preds - test)/np.abs(test))\n",
    "print((1-mape)*100) #print mape as an accuracy percentage"
   ]
  },
  {
   "cell_type": "markdown",
   "id": "891b2580",
   "metadata": {},
   "source": [
    "Using the Mean Absolute Percentage Error (MAPE), we have a 97.4% accuracy of the SARIMA model. Even if the mape of the ARIMA and SARIMA model are similar(97.4 and 97.2), from the images SARIMA seems to be doing a better job.  Looking at the image above it seems it under forcast the values of actual temperature after about the year 2000. "
   ]
  }
 ],
 "metadata": {
  "kernelspec": {
   "display_name": "Python 3 (ipykernel)",
   "language": "python",
   "name": "python3"
  },
  "language_info": {
   "codemirror_mode": {
    "name": "ipython",
    "version": 3
   },
   "file_extension": ".py",
   "mimetype": "text/x-python",
   "name": "python",
   "nbconvert_exporter": "python",
   "pygments_lexer": "ipython3",
   "version": "3.9.7"
  }
 },
 "nbformat": 4,
 "nbformat_minor": 5
}
