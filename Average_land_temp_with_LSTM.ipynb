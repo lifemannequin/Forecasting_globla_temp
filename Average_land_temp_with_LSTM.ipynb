{
 "cells": [
  {
   "cell_type": "markdown",
   "id": "62176b02",
   "metadata": {},
   "source": [
    "# Introduction\n",
    "\n",
    "The prediction of future global temperatures is a critical aspect of climate research and policy-making. By accurately forecasting temperature trends, we can gain valuable insights into the potential impacts of climate change and make informed decisions to mitigate its effects. In this study, we explore the use of ARIMA (Autoregressive Integrated Moving Average) and SARIMA (Seasonal ARIMA) models to forecast global temperature values based solely on historical temperature data.\n",
    "\n",
    "The dataset used in this analysis is sourced from Berkeley Earth, an organization affiliated with Lawrence Berkeley National Laboratory. This dataset provides comprehensive and reliable surface temperature measurements from various locations across the globe. The data can be accessed from the following Kaggle repository: https://www.kaggle.com/datasets/berkeleyearth/climate-change-earth-surface-temperature-data.\n",
    "\n",
    "The primary objective of this study is to investigate the effectiveness of ARIMA and SARIMA models in capturing the temporal patterns and predicting future global temperature changes. These models are well-suited for time series analysis, as they can account for the autocorrelation and seasonality present in the temperature data.\n",
    "\n",
    "By leveraging the historical temperature observations, we aim to develop accurate and robust forecasting models. The insights gained from these models can help us understand the long-term temperature trends, identify potential climate anomalies, and assess the efficacy of climate change mitigation strategies."
   ]
  },
  {
   "cell_type": "markdown",
   "id": "5adad330",
   "metadata": {},
   "source": [
    "# EDA"
   ]
  },
  {
   "cell_type": "code",
   "execution_count": 1,
   "id": "d31a2d8a",
   "metadata": {},
   "outputs": [],
   "source": [
    "#Importing Libraries\n",
    "import numpy as np\n",
    "import pandas as pd\n",
    "import matplotlib.pyplot as plt\n",
    "import math\n",
    "import torch\n",
    "import torch.nn as nn\n",
    "import torch.optim as optim\n",
    "import torch.utils.data as dataL"
   ]
  },
  {
   "cell_type": "code",
   "execution_count": 2,
   "id": "b5e74909",
   "metadata": {},
   "outputs": [
    {
     "data": {
      "text/html": [
       "<div>\n",
       "<style scoped>\n",
       "    .dataframe tbody tr th:only-of-type {\n",
       "        vertical-align: middle;\n",
       "    }\n",
       "\n",
       "    .dataframe tbody tr th {\n",
       "        vertical-align: top;\n",
       "    }\n",
       "\n",
       "    .dataframe thead th {\n",
       "        text-align: right;\n",
       "    }\n",
       "</style>\n",
       "<table border=\"1\" class=\"dataframe\">\n",
       "  <thead>\n",
       "    <tr style=\"text-align: right;\">\n",
       "      <th></th>\n",
       "      <th>dt</th>\n",
       "      <th>LandAverageTemperature</th>\n",
       "      <th>LandAverageTemperatureUncertainty</th>\n",
       "      <th>LandMaxTemperature</th>\n",
       "      <th>LandMaxTemperatureUncertainty</th>\n",
       "      <th>LandMinTemperature</th>\n",
       "      <th>LandMinTemperatureUncertainty</th>\n",
       "      <th>LandAndOceanAverageTemperature</th>\n",
       "      <th>LandAndOceanAverageTemperatureUncertainty</th>\n",
       "    </tr>\n",
       "  </thead>\n",
       "  <tbody>\n",
       "    <tr>\n",
       "      <th>0</th>\n",
       "      <td>1750-01-01</td>\n",
       "      <td>3.034</td>\n",
       "      <td>3.574</td>\n",
       "      <td>NaN</td>\n",
       "      <td>NaN</td>\n",
       "      <td>NaN</td>\n",
       "      <td>NaN</td>\n",
       "      <td>NaN</td>\n",
       "      <td>NaN</td>\n",
       "    </tr>\n",
       "    <tr>\n",
       "      <th>1</th>\n",
       "      <td>1750-02-01</td>\n",
       "      <td>3.083</td>\n",
       "      <td>3.702</td>\n",
       "      <td>NaN</td>\n",
       "      <td>NaN</td>\n",
       "      <td>NaN</td>\n",
       "      <td>NaN</td>\n",
       "      <td>NaN</td>\n",
       "      <td>NaN</td>\n",
       "    </tr>\n",
       "    <tr>\n",
       "      <th>2</th>\n",
       "      <td>1750-03-01</td>\n",
       "      <td>5.626</td>\n",
       "      <td>3.076</td>\n",
       "      <td>NaN</td>\n",
       "      <td>NaN</td>\n",
       "      <td>NaN</td>\n",
       "      <td>NaN</td>\n",
       "      <td>NaN</td>\n",
       "      <td>NaN</td>\n",
       "    </tr>\n",
       "    <tr>\n",
       "      <th>3</th>\n",
       "      <td>1750-04-01</td>\n",
       "      <td>8.490</td>\n",
       "      <td>2.451</td>\n",
       "      <td>NaN</td>\n",
       "      <td>NaN</td>\n",
       "      <td>NaN</td>\n",
       "      <td>NaN</td>\n",
       "      <td>NaN</td>\n",
       "      <td>NaN</td>\n",
       "    </tr>\n",
       "    <tr>\n",
       "      <th>4</th>\n",
       "      <td>1750-05-01</td>\n",
       "      <td>11.573</td>\n",
       "      <td>2.072</td>\n",
       "      <td>NaN</td>\n",
       "      <td>NaN</td>\n",
       "      <td>NaN</td>\n",
       "      <td>NaN</td>\n",
       "      <td>NaN</td>\n",
       "      <td>NaN</td>\n",
       "    </tr>\n",
       "  </tbody>\n",
       "</table>\n",
       "</div>"
      ],
      "text/plain": [
       "           dt  LandAverageTemperature  LandAverageTemperatureUncertainty  \\\n",
       "0  1750-01-01                   3.034                              3.574   \n",
       "1  1750-02-01                   3.083                              3.702   \n",
       "2  1750-03-01                   5.626                              3.076   \n",
       "3  1750-04-01                   8.490                              2.451   \n",
       "4  1750-05-01                  11.573                              2.072   \n",
       "\n",
       "   LandMaxTemperature  LandMaxTemperatureUncertainty  LandMinTemperature  \\\n",
       "0                 NaN                            NaN                 NaN   \n",
       "1                 NaN                            NaN                 NaN   \n",
       "2                 NaN                            NaN                 NaN   \n",
       "3                 NaN                            NaN                 NaN   \n",
       "4                 NaN                            NaN                 NaN   \n",
       "\n",
       "   LandMinTemperatureUncertainty  LandAndOceanAverageTemperature  \\\n",
       "0                            NaN                             NaN   \n",
       "1                            NaN                             NaN   \n",
       "2                            NaN                             NaN   \n",
       "3                            NaN                             NaN   \n",
       "4                            NaN                             NaN   \n",
       "\n",
       "   LandAndOceanAverageTemperatureUncertainty  \n",
       "0                                        NaN  \n",
       "1                                        NaN  \n",
       "2                                        NaN  \n",
       "3                                        NaN  \n",
       "4                                        NaN  "
      ]
     },
     "execution_count": 2,
     "metadata": {},
     "output_type": "execute_result"
    }
   ],
   "source": [
    "# Importing dataset\n",
    "df = pd.read_csv('/home/veroastro/Documents/Forecasting_globla_temp/data/GlobalTemperatures.csv')\n",
    "df.head()"
   ]
  },
  {
   "cell_type": "code",
   "execution_count": 3,
   "id": "ea9b312c",
   "metadata": {},
   "outputs": [
    {
     "data": {
      "text/plain": [
       "dt                                   0\n",
       "LandAverageTemperature               0\n",
       "LandAverageTemperatureUncertainty    0\n",
       "dtype: int64"
      ]
     },
     "execution_count": 3,
     "metadata": {},
     "output_type": "execute_result"
    }
   ],
   "source": [
    "# creating dataset with the relevant columns and \n",
    "    # deleting the missing values\n",
    "cols = ['dt', 'LandAverageTemperature', 'LandAverageTemperatureUncertainty']\n",
    "land_avg_temp = df[cols].dropna()\n",
    "land_avg_temp.isna().sum()"
   ]
  },
  {
   "cell_type": "code",
   "execution_count": 4,
   "id": "ad472817",
   "metadata": {},
   "outputs": [
    {
     "name": "stdout",
     "output_type": "stream",
     "text": [
      "       LandAverageTemperature  LandAverageTemperatureUncertainty\n",
      "count              266.000000                         266.000000\n",
      "mean                 8.369337                           0.945719\n",
      "std                  0.584921                           0.994110\n",
      "min                  5.779833                           0.062083\n",
      "25%                  8.081563                           0.210208\n",
      "50%                  8.372167                           0.405583\n",
      "75%                  8.704167                           1.629563\n",
      "max                  9.831000                           4.026000\n"
     ]
    }
   ],
   "source": [
    "# creating the dataset of temperatures by year\n",
    "land_avg_temp['years'] = pd.DatetimeIndex(land_avg_temp['dt']).year\n",
    "yearly = land_avg_temp.groupby('years').mean()\n",
    "print(yearly.describe())\n"
   ]
  },
  {
   "cell_type": "code",
   "execution_count": 5,
   "id": "4c534d8e",
   "metadata": {},
   "outputs": [
    {
     "data": {
      "text/plain": [
       "count    166.000000\n",
       "mean       8.571583\n",
       "std        0.473687\n",
       "min        7.558583\n",
       "25%        8.195708\n",
       "50%        8.540750\n",
       "75%        8.791250\n",
       "max        9.831000\n",
       "Name: LandAverageTemperature, dtype: float64"
      ]
     },
     "execution_count": 5,
     "metadata": {},
     "output_type": "execute_result"
    }
   ],
   "source": [
    "# Creating the dataset with only the temperatures and \n",
    "# dropping first 100 elements to reduce errors.\n",
    "avg_temp = yearly['LandAverageTemperature'].drop(yearly.index[:100])\n",
    "avg_temp.describe()"
   ]
  },
  {
   "cell_type": "code",
   "execution_count": 6,
   "id": "73ff0920",
   "metadata": {},
   "outputs": [
    {
     "data": {
      "image/png": "[encoded data removed]",
      "text/plain": [
       "<Figure size 640x480 with 1 Axes>"
      ]
     },
     "metadata": {},
     "output_type": "display_data"
    }
   ],
   "source": [
    "# Plotting the new dataset\n",
    "y = avg_temp\n",
    "plt.plot(y)\n",
    "plt.title(\"Average Land Temperature per year\")\n",
    "plt.xlabel(\"Year\")\n",
    "plt.ylabel(\"Average Temperature per year\")\n",
    "plt.show()\n"
   ]
  },
  {
   "cell_type": "markdown",
   "id": "52bc0f58",
   "metadata": {},
   "source": [
    "There is less sharp variations on the temperatures. Also the temperature seems to sharply increase since about 1960 of about 1 degree celsius. "
   ]
  },
  {
   "cell_type": "markdown",
   "id": "434bfbca",
   "metadata": {},
   "source": [
    "# Analysis\n",
    "\n",
    "## Data Preprocessing"
   ]
  },
  {
   "cell_type": "code",
   "execution_count": 7,
   "id": "08986ab4",
   "metadata": {},
   "outputs": [
    {
     "name": "stdout",
     "output_type": "stream",
     "text": [
      "train: (116, 1)\n",
      "test: (50, 1)\n",
      "Cut-off year = 1966\n"
     ]
    }
   ],
   "source": [
    "# splitting the dataset into train and test datasets\n",
    "size = len(avg_temp)\n",
    "cutoff = int(size*0.7)\n",
    "train = pd.DataFrame(avg_temp[:cutoff])\n",
    "test = pd.DataFrame(avg_temp[cutoff:])\n",
    "print('train:', train.shape)\n",
    "print('test:', test.shape)\n",
    "print('Cut-off year =', 1850+train.shape[0])"
   ]
  },
  {
   "cell_type": "code",
   "execution_count": 8,
   "id": "68b53c88",
   "metadata": {},
   "outputs": [],
   "source": [
    "import torch\n",
    "\n",
    "def create_dataset(dataset, lookback):\n",
    "    \"\"\"Transform a time series into a prediction dataset\n",
    "    \n",
    "    Args:\n",
    "        dataset: A numpy array of time series, first dimension is the time steps\n",
    "        lookback: Size of window for prediction\n",
    "    \"\"\"\n",
    "    X, y = [], []\n",
    "    for i in range(len(dataset)-lookback):\n",
    "        feature = dataset[i:i+lookback]\n",
    "        target = dataset[i+1:i+lookback+1]\n",
    "        X.append(feature)\n",
    "        y.append(target)\n",
    "    return torch.tensor(X), torch.tensor(y)"
   ]
  },
  {
   "cell_type": "code",
   "execution_count": 9,
   "id": "8bb0375d",
   "metadata": {},
   "outputs": [
    {
     "name": "stdout",
     "output_type": "stream",
     "text": [
      "torch.Size([112, 4, 1]) torch.Size([112, 4, 1])\n",
      "torch.Size([46, 4, 1]) torch.Size([46, 4, 1])\n"
     ]
    }
   ],
   "source": [
    "lookback = 4\n",
    "X_train, y_train = create_dataset(train.to_numpy(), lookback=lookback)\n",
    "X_test, y_test = create_dataset(test.to_numpy(), lookback=lookback)\n",
    "print(X_train.shape, y_train.shape)\n",
    "print(X_test.shape, y_test.shape)"
   ]
  },
  {
   "cell_type": "markdown",
   "id": "ce2e5860",
   "metadata": {},
   "source": [
    "## Building Model\n",
    "\n"
   ]
  },
  {
   "cell_type": "code",
   "execution_count": 10,
   "id": "cd80256f",
   "metadata": {},
   "outputs": [
    {
     "name": "stdout",
     "output_type": "stream",
     "text": [
      "RMSE of Naive Model: 0.6863\n"
     ]
    }
   ],
   "source": [
    "from sklearn.metrics import mean_squared_error\n",
    "# Fit the naive model\n",
    "naive_model_predictions = np.repeat(train.iloc[-1], len(test))\n",
    "\n",
    "# Evaluate the model\n",
    "rmse = np.sqrt(mean_squared_error(test, naive_model_predictions))\n",
    "print(f\"RMSE of Naive Model: {rmse:.4f}\")"
   ]
  },
  {
   "cell_type": "code",
   "execution_count": 11,
   "id": "dc9bb24a",
   "metadata": {},
   "outputs": [],
   "source": [
    "\n",
    "class LSTMmodel(nn.Module):\n",
    "    def __init__(self):\n",
    "        super().__init__()\n",
    "        self.lstm = nn.LSTM(input_size=1, hidden_size=50, num_layers=1, batch_first=True)\n",
    "        self.linear = nn.Linear(50, 1)\n",
    "    def forward(self, x):\n",
    "        x, _ = self.lstm(x)\n",
    "        x = self.linear(x)\n",
    "        return x"
   ]
  },
  {
   "cell_type": "code",
   "execution_count": 12,
   "id": "7e5995d7",
   "metadata": {},
   "outputs": [],
   "source": [
    "model = LSTMmodel().double()\n",
    "optimizer = optim.Adam(model.parameters())\n",
    "loss_fn = nn.MSELoss()\n",
    "loader = dataL.DataLoader(dataL.TensorDataset(X_train, y_train), shuffle=True, batch_size=8)\n",
    " "
   ]
  },
  {
   "cell_type": "markdown",
   "id": "14723be8",
   "metadata": {},
   "source": [
    "From the plot above, the trend of the dataset has been removed."
   ]
  },
  {
   "cell_type": "code",
   "execution_count": 13,
   "id": "ae9615a3",
   "metadata": {
    "scrolled": true
   },
   "outputs": [
    {
     "name": "stdout",
     "output_type": "stream",
     "text": [
      "Epoch 0: train RMSE 7.8400, test RMSE 8.5584\n",
      "Epoch 100: train RMSE 0.2714, test RMSE 0.7569\n",
      "Epoch 200: train RMSE 0.2164, test RMSE 0.4982\n",
      "Epoch 300: train RMSE 0.2124, test RMSE 0.4642\n",
      "Epoch 400: train RMSE 0.2170, test RMSE 0.4181\n",
      "Epoch 500: train RMSE 0.2139, test RMSE 0.3946\n",
      "Epoch 600: train RMSE 0.2041, test RMSE 0.3629\n",
      "Epoch 700: train RMSE 0.1978, test RMSE 0.3614\n",
      "Epoch 800: train RMSE 0.1946, test RMSE 0.3443\n",
      "Epoch 900: train RMSE 0.1927, test RMSE 0.3119\n",
      "Epoch 1000: train RMSE 0.2042, test RMSE 0.3647\n",
      "Epoch 1100: train RMSE 0.1916, test RMSE 0.3078\n",
      "Epoch 1200: train RMSE 0.1932, test RMSE 0.3272\n",
      "Epoch 1300: train RMSE 0.1916, test RMSE 0.3205\n",
      "Epoch 1400: train RMSE 0.1977, test RMSE 0.3335\n",
      "Epoch 1500: train RMSE 0.1951, test RMSE 0.2831\n",
      "Epoch 1600: train RMSE 0.1909, test RMSE 0.3011\n",
      "Epoch 1700: train RMSE 0.1937, test RMSE 0.2898\n",
      "Epoch 1800: train RMSE 0.1912, test RMSE 0.3047\n",
      "Epoch 1900: train RMSE 0.1911, test RMSE 0.2910\n",
      "Epoch 2000: train RMSE 0.1916, test RMSE 0.3126\n",
      "Epoch 2100: train RMSE 0.1912, test RMSE 0.2957\n",
      "Epoch 2200: train RMSE 0.1950, test RMSE 0.2775\n",
      "Epoch 2300: train RMSE 0.1940, test RMSE 0.2772\n",
      "Epoch 2400: train RMSE 0.1904, test RMSE 0.3006\n",
      "Epoch 2500: train RMSE 0.1905, test RMSE 0.2965\n",
      "Epoch 2600: train RMSE 0.1909, test RMSE 0.2992\n",
      "Epoch 2700: train RMSE 0.1933, test RMSE 0.2816\n",
      "Epoch 2800: train RMSE 0.1916, test RMSE 0.3091\n",
      "Epoch 2900: train RMSE 0.1923, test RMSE 0.2791\n",
      "Epoch 3000: train RMSE 0.1903, test RMSE 0.2946\n",
      "Epoch 3100: train RMSE 0.1924, test RMSE 0.3181\n",
      "Epoch 3200: train RMSE 0.1907, test RMSE 0.2935\n",
      "Epoch 3300: train RMSE 0.2039, test RMSE 0.2613\n",
      "Epoch 3400: train RMSE 0.1977, test RMSE 0.2670\n",
      "Epoch 3500: train RMSE 0.1976, test RMSE 0.3291\n",
      "Epoch 3600: train RMSE 0.1901, test RMSE 0.2859\n",
      "Epoch 3700: train RMSE 0.1910, test RMSE 0.3018\n",
      "Epoch 3800: train RMSE 0.1908, test RMSE 0.2820\n",
      "Epoch 3900: train RMSE 0.2018, test RMSE 0.3343\n"
     ]
    }
   ],
   "source": [
    "n_epochs = 4000 \n",
    "for epoch in range(n_epochs):\n",
    "    model.train()\n",
    "    for X_batch, y_batch in loader:\n",
    "        y_pred = model(X_batch)\n",
    "        loss = loss_fn(y_pred, y_batch)\n",
    "        optimizer.zero_grad()\n",
    "        loss.backward()\n",
    "        optimizer.step()\n",
    "    # Validation\n",
    "    if epoch % 100 != 0:\n",
    "        continue\n",
    "    model.eval()\n",
    "    with torch.no_grad():\n",
    "        y_pred = model(X_train)\n",
    "        train_rmse = np.sqrt(loss_fn(y_pred, y_train))\n",
    "        y_pred = model(X_test)\n",
    "        test_rmse = np.sqrt(loss_fn(y_pred, y_test))\n",
    "    print(\"Epoch %d: train RMSE %.4f, test RMSE %.4f\" % (epoch, train_rmse, test_rmse))\n",
    " "
   ]
  },
  {
   "cell_type": "code",
   "execution_count": 14,
   "id": "b059f762",
   "metadata": {
    "scrolled": true
   },
   "outputs": [
    {
     "data": {
      "image/png": "[encoded data removed]",
      "text/plain": [
       "<Figure size 640x480 with 1 Axes>"
      ]
     },
     "metadata": {},
     "output_type": "display_data"
    }
   ],
   "source": [
    "with torch.no_grad():\n",
    "    # shift train predictions for plotting\n",
    "    train_plot = np.ones_like(avg_temp) * np.nan\n",
    "    y_pred = model(X_train)\n",
    "    y_pred = y_pred[:, -1, :]\n",
    "    train_pred = np.resize(model(X_train)[:, -1, :].numpy(),112)\n",
    "    train_plot[lookback:cutoff] = train_pred\n",
    "    # shift test predictions for plotting\n",
    "    test_plot = np.ones_like(avg_temp) * np.nan\n",
    "    test_pred = np.resize(model(X_test)[:, -1, :],46)\n",
    "    test_plot[cutoff+lookback:len(avg_temp)] = test_pred\n",
    "# plot\n",
    "x_axis = np.arange(train.shape[0] + test.shape[0])\n",
    "x_years = x_axis + 1850  # Year starts at 1850\n",
    "plt.plot(avg_temp)\n",
    "plt.plot(x_years,train_plot, c='r')\n",
    "plt.plot(x_years,test_plot, c='g')\n",
    "plt.show()\n"
   ]
  },
  {
   "cell_type": "code",
   "execution_count": 15,
   "id": "058ff787",
   "metadata": {},
   "outputs": [
    {
     "name": "stdout",
     "output_type": "stream",
     "text": [
      "train RMSE 0.1903, test RMSE 0.2840\n"
     ]
    }
   ],
   "source": [
    "\n",
    " with torch.no_grad():\n",
    "        y_pred = model(X_train)\n",
    "        train_rmse = np.sqrt(loss_fn(y_pred, y_train))\n",
    "        y_pred = model(X_test)\n",
    "        test_rmse = np.sqrt(loss_fn(y_pred, y_test))\n",
    "        print(\"train RMSE %.4f, test RMSE %.4f\" % (train_rmse, test_rmse))\n",
    " "
   ]
  },
  {
   "cell_type": "markdown",
   "id": "a1f2ccef",
   "metadata": {},
   "source": [
    "## Optimizing the model"
   ]
  },
  {
   "cell_type": "code",
   "execution_count": 30,
   "id": "3e9a2a7b",
   "metadata": {},
   "outputs": [
    {
     "name": "stderr",
     "output_type": "stream",
     "text": [
      "\u001b[32m[I 2023-06-10 11:05:26,016]\u001b[0m A new study created in memory with name: no-name-75ef6c7d-b37a-463b-94aa-cc9fe106f2c2\u001b[0m\n",
      "\u001b[32m[I 2023-06-10 11:06:42,297]\u001b[0m Trial 0 finished with value: 8.581486241159814 and parameters: {'epochs': 2100}. Best is trial 0 with value: 8.581486241159814.\u001b[0m\n",
      "\u001b[32m[I 2023-06-10 11:09:14,297]\u001b[0m Trial 1 finished with value: 8.298732663133913 and parameters: {'epochs': 3900}. Best is trial 1 with value: 8.298732663133913.\u001b[0m\n",
      "\u001b[32m[I 2023-06-10 11:10:40,401]\u001b[0m Trial 2 finished with value: 8.491805702113833 and parameters: {'epochs': 2400}. Best is trial 1 with value: 8.298732663133913.\u001b[0m\n",
      "\u001b[32m[I 2023-06-10 11:11:55,948]\u001b[0m Trial 3 finished with value: 8.839700400679286 and parameters: {'epochs': 2100}. Best is trial 1 with value: 8.298732663133913.\u001b[0m\n",
      "\u001b[32m[I 2023-06-10 11:14:22,592]\u001b[0m Trial 4 finished with value: 8.67638985371686 and parameters: {'epochs': 3800}. Best is trial 1 with value: 8.298732663133913.\u001b[0m\n",
      "\u001b[32m[I 2023-06-10 11:15:52,664]\u001b[0m Trial 5 finished with value: 8.59126209609508 and parameters: {'epochs': 2500}. Best is trial 1 with value: 8.298732663133913.\u001b[0m\n",
      "\u001b[32m[I 2023-06-10 11:18:21,183]\u001b[0m Trial 6 finished with value: 8.41844165841963 and parameters: {'epochs': 3100}. Best is trial 1 with value: 8.298732663133913.\u001b[0m\n",
      "\u001b[32m[I 2023-06-10 11:22:13,310]\u001b[0m Trial 7 finished with value: 8.760127027487025 and parameters: {'epochs': 3900}. Best is trial 1 with value: 8.298732663133913.\u001b[0m\n",
      "\u001b[32m[I 2023-06-10 11:23:34,887]\u001b[0m Trial 8 finished with value: 8.579171812569971 and parameters: {'epochs': 1300}. Best is trial 1 with value: 8.298732663133913.\u001b[0m\n",
      "\u001b[32m[I 2023-06-10 11:26:33,317]\u001b[0m Trial 9 finished with value: 8.582510557732324 and parameters: {'epochs': 3100}. Best is trial 1 with value: 8.298732663133913.\u001b[0m\n"
     ]
    },
    {
     "name": "stdout",
     "output_type": "stream",
     "text": [
      "Study statistics: \n",
      "  Number of finished trials:  10\n",
      "  Number of pruned trials:  0\n",
      "  Number of complete trials:  10\n",
      "Best trial:\n",
      "  Value:  8.298732663133913\n",
      "  Params: \n",
      "    epochs: 3900\n"
     ]
    }
   ],
   "source": [
    "import optuna\n",
    "from optuna.trial import TrialState\n",
    "def get_loader(data, batchsize):\n",
    "    # \n",
    "    size = len(data)\n",
    "    cutoff = int(size*0.8)\n",
    "\n",
    "    train = pd.DataFrame(data[:cutoff])\n",
    "    val= pd.DataFrame(data[cutoff:])\n",
    "\n",
    "    X_train, y_train = create_dataset(train.to_numpy(), lookback=lookback)\n",
    "    X_val, y_val= create_dataset(val.to_numpy(), lookback=lookback)\n",
    "    \n",
    "    train_loader = dataL.DataLoader(dataL.TensorDataset(X_train, y_train), shuffle=True, \n",
    "                                    batch_size=batchsize)\n",
    "    \n",
    "    valid_loader =  dataL.DataLoader(dataL.TensorDataset(X_val, y_val),\n",
    "                                        batch_size=batchsize, shuffle=True,)\n",
    "    \n",
    "    return train_loader, valid_loader\n",
    "\n",
    "def calculate_rmse(model, loader):\n",
    "    predictions = []\n",
    "    targets = []\n",
    "    for X, y in loader:\n",
    "        y_pred = model(X)\n",
    "        predictions.append(y_pred)\n",
    "        targets.append(y)\n",
    "\n",
    "    predictions = torch.cat(predictions, dim=0)\n",
    "    targets = torch.cat(targets, dim=0)\n",
    "    rmse = torch.sqrt(loss_fn(predictions, targets))\n",
    "    return rmse.item()\n",
    "\n",
    "\n",
    "def objective(trial):\n",
    "    model = LSTMmodel().double()\n",
    "    optimizer_name = optim.Adam(model.parameters())#trial.suggest_categorical(\"optimizer\", [\"adam\", \"SGD\", \"RMSprop\", \"Adadelta\"])\n",
    "    epochs = trial.suggest_int(\"epochs\", 1000, 4000,step=100, log=False)\n",
    "    batchsize = 8 #trial.suggest_int(\"batchsize\", 8, 40,step=16, log=False)\n",
    "    \n",
    "    \n",
    "    train_loader, valid_loader = get_loader(train, batchsize)\n",
    "                                  \n",
    "    for epoch in range(epochs):\n",
    "        model.train()\n",
    "        for X_batch, y_batch in train_loader:\n",
    "            y_pred = model(X_batch)\n",
    "            loss = loss_fn(y_pred, y_batch)\n",
    "            optimizer.zero_grad()\n",
    "            loss.backward()\n",
    "            optimizer.step()\n",
    "    # Validation\n",
    "\n",
    "        model.eval()\n",
    "        with torch.no_grad():\n",
    "            valid_rmse = calculate_rmse(model, valid_loader)\n",
    "            \n",
    "    weights = list(model.named_parameters())\n",
    "\n",
    "    # Handle pruning based on the intermediate value.\n",
    "    if trial.should_prune():\n",
    "        raise optuna.exceptions.TrialPruned()\n",
    "\n",
    "    trial.set_user_attr(key=\"best_model_weights\", value=weights)\n",
    "    return valid_rmse\n",
    "\n",
    "def callback(study, trial):\n",
    "    if study.best_trial.number == trial.number:\n",
    "        study.set_user_attr(key=\"best_model_weights\", \n",
    "                            value=trial.user_attrs[\"best_model_weights\"])\n",
    "\n",
    "study = optuna.create_study(direction=\"minimize\")\n",
    "study.optimize(objective, n_trials=10, timeout=None, callbacks=[callback])\n",
    "    \n",
    "pruned_trials = study.get_trials(deepcopy=False, states=[TrialState.PRUNED])\n",
    "complete_trials = study.get_trials(deepcopy=False, states=[TrialState.COMPLETE])\n",
    "\n",
    "print(\"Study statistics: \")\n",
    "print(\"  Number of finished trials: \", len(study.trials))\n",
    "print(\"  Number of pruned trials: \", len(pruned_trials))\n",
    "print(\"  Number of complete trials: \", len(complete_trials))\n",
    "\n",
    "print(\"Best trial:\")\n",
    "trial = study.best_trial\n",
    "\n",
    "print(\"  Value: \", trial.value)\n",
    "\n",
    "print(\"  Params: \")\n",
    "for key, value in trial.params.items():\n",
    "    print(\"    {}: {}\".format(key, value))"
   ]
  },
  {
   "cell_type": "code",
   "execution_count": null,
   "id": "a4d72ae9",
   "metadata": {},
   "outputs": [],
   "source": []
  }
 ],
 "metadata": {
  "kernelspec": {
   "display_name": "Python 3 (ipykernel)",
   "language": "python",
   "name": "python3"
  },
  "language_info": {
   "codemirror_mode": {
    "name": "ipython",
    "version": 3
   },
   "file_extension": ".py",
   "mimetype": "text/x-python",
   "name": "python",
   "nbconvert_exporter": "python",
   "pygments_lexer": "ipython3",
   "version": "3.9.7"
  }
 },
 "nbformat": 4,
 "nbformat_minor": 5
}
